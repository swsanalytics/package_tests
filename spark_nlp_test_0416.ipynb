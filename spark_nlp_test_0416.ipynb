{
 "cells": [
  {
   "cell_type": "markdown",
   "metadata": {},
   "source": [
    "## spark nlp test\n",
    "\n",
    "### This test script instantiates a spark nlp session , then uses a spark nlp pipeline to proprocess text data. Finally, a pretrained POS tagger is used to render part of speech IDs for tokens. "
   ]
  },
  {
   "cell_type": "code",
   "execution_count": 1,
   "metadata": {},
   "outputs": [],
   "source": [
    "# Instantiate spark NLP session configurations\n",
    "from pyspark.sql import SparkSession\n",
    "\n",
    "spark = SparkSession.builder \\\n",
    "    .appName(\"ner\")\\\n",
    "    .master(\"local[4]\")\\\n",
    "    .config(\"spark.driver.memory\",\"4G\")\\\n",
    "    .config(\"spark.driver.maxResultSize\", \"2G\") \\\n",
    "    .config(\"spark.jars.packages\", \"JohnSnowLabs:spark-nlp:2.0.1\")\\\n",
    "    .config(\"spark.kryoserializer.buffer.max\", \"500m\")\\\n",
    "    .getOrCreate()"
   ]
  },
  {
   "cell_type": "code",
   "execution_count": 2,
   "metadata": {},
   "outputs": [],
   "source": [
    "#Ensure spark home is set with the appropriate .jar files\n",
    "import os\n",
    "os.environ[\"SPARK_HOME\"] = \"/opt/spark/\""
   ]
  },
  {
   "cell_type": "code",
   "execution_count": 4,
   "metadata": {},
   "outputs": [
    {
     "data": {
      "text/html": [
       "\n",
       "        <div>\n",
       "            <p><b>SparkContext</b></p>\n",
       "\n",
       "            <p><a href=\"http://192.168.1.91:4041\">Spark UI</a></p>\n",
       "\n",
       "            <dl>\n",
       "              <dt>Version</dt>\n",
       "                <dd><code>v2.4.0</code></dd>\n",
       "              <dt>Master</dt>\n",
       "                <dd><code>local[4]</code></dd>\n",
       "              <dt>AppName</dt>\n",
       "                <dd><code>ner</code></dd>\n",
       "            </dl>\n",
       "        </div>\n",
       "        "
      ],
      "text/plain": [
       "<SparkContext master=local[4] appName=ner>"
      ]
     },
     "execution_count": 4,
     "metadata": {},
     "output_type": "execute_result"
    }
   ],
   "source": [
    "#examine .jar files\n",
    "spark.sparkContext"
   ]
  },
  {
   "cell_type": "code",
   "execution_count": 5,
   "metadata": {},
   "outputs": [
    {
     "name": "stdout",
     "output_type": "stream",
     "text": [
      "+---+--------------------+--------------------+--------------------+--------------------+--------------------+--------------------+\n",
      "| id|                text|            document|            sentence|               token|                 pos|     word_embeddings|\n",
      "+---+--------------------+--------------------+--------------------+--------------------+--------------------+--------------------+\n",
      "|  0|Hi I heard about ...|[[document, 0, 21...|[[document, 0, 21...|[[token, 0, 1, Hi...|[[pos, 0, 1, NNP,...|[[word_embeddings...|\n",
      "|  1|I wish Java could...|[[document, 0, 33...|[[document, 0, 33...|[[token, 0, 0, I,...|[[pos, 0, 0, PRP,...|[[word_embeddings...|\n",
      "|  2|Logistic,regressi...|[[document, 0, 34...|[[document, 0, 34...|[[token, 0, 34, L...|[[pos, 0, 34, NNP...|[[word_embeddings...|\n",
      "+---+--------------------+--------------------+--------------------+--------------------+--------------------+--------------------+\n",
      "\n"
     ]
    }
   ],
   "source": [
    "##### Pipeline using PerceptronModel (pretrained) Part of Speech Tagger and spark nlp preprocessing components. \n",
    "\n",
    "\n",
    "from sparknlp.annotator import *\n",
    "from sparknlp.common import *\n",
    "from sparknlp.base import *\n",
    "\n",
    "#this should correspond to the fast part of speech model, (pos_fast_en_1.8.0_2.4_15454346533742.zip)\n",
    "from sparknlp.annotator import PerceptronModel\n",
    "\n",
    "sentenceDataFrame = spark.createDataFrame([\n",
    "    (0, \"Hi I heard about Spark\"),\n",
    "    (1, \"I wish Java could use case classes\"),\n",
    "    (2, \"Logistic,regression,models,are,neat\")\n",
    "], [\"id\", \"text\"])\n",
    "\n",
    "\n",
    "document_assembler = DocumentAssembler() \\\n",
    "    .setInputCol(\"text\")\n",
    "\n",
    "sentence_detector = SentenceDetector() \\\n",
    "    .setInputCols([\"document\"]) \\\n",
    "    .setOutputCol(\"sentence\")\n",
    "\n",
    "tokenizer = Tokenizer() \\\n",
    "    .setInputCols([\"sentence\"]) \\\n",
    "    .setOutputCol(\"token\")\n",
    "\n",
    "wordEmbeddings = WordEmbeddingsModel.pretrained().setOutputCol(\"word_embeddings\")    \n",
    "\n",
    "# download directly - models\n",
    "pos = PerceptronModel.pretrained() \\\n",
    "    .setInputCols([\"sentence\", \"token\"]) \\\n",
    "    .setOutputCol(\"pos\")\n",
    "    \n",
    "advancedPipeline = Pipeline(stages=[document_assembler, sentence_detector, tokenizer, pos, wordEmbeddings])\n",
    "\n",
    "output = advancedPipeline.fit(sentenceDataFrame).transform(sentenceDataFrame)\n",
    "output.show()\n"
   ]
  },
  {
   "cell_type": "code",
   "execution_count": 6,
   "metadata": {},
   "outputs": [
    {
     "name": "stdout",
     "output_type": "stream",
     "text": [
      "+-------------------------------------------------------------------------------------------------------------------------------------------------------------------------------------------------------------------+\n",
      "|pos                                                                                                                                                                                                                |\n",
      "+-------------------------------------------------------------------------------------------------------------------------------------------------------------------------------------------------------------------+\n",
      "|[[pos, 0, 1, NNP, [word -> Hi], [], []], [pos, 3, 3, PRP, [word -> I], [], []], [pos, 5, 9, VBD, [word -> heard], [], []], [pos, 11, 15, IN, [word -> about], [], []], [pos, 17, 21, NNP, [word -> Spark], [], []]]|\n",
      "+-------------------------------------------------------------------------------------------------------------------------------------------------------------------------------------------------------------------+\n",
      "only showing top 1 row\n",
      "\n"
     ]
    }
   ],
   "source": [
    "#Does appear to be returning parts of speech\n",
    "output.select(\"pos\").show(1, truncate=False)\n",
    "\n",
    "#example output \n",
    "#pos, 0, 1, NNP, [word -> Hi], [], []], [pos, 3, 3, PRP, [word -> I], [], []], [pos, 5, 9, VBD, [word -> heard], [], []], [pos, 11, 15, IN, [word -> about], [], []], [pos, 17, 21, NNP, [word -> Spark], [], []]]|\n",
    "\n"
   ]
  }
 ],
 "metadata": {
  "kernelspec": {
   "display_name": "pysparkenv",
   "language": "python",
   "name": "pysparkenv"
  },
  "language_info": {
   "codemirror_mode": {
    "name": "ipython",
    "version": 3
   },
   "file_extension": ".py",
   "mimetype": "text/x-python",
   "name": "python",
   "nbconvert_exporter": "python",
   "pygments_lexer": "ipython3",
   "version": "3.7.3"
  }
 },
 "nbformat": 4,
 "nbformat_minor": 2
}
